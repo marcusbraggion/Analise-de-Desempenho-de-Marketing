{
 "cells": [
  {
   "cell_type": "markdown",
   "id": "316531d5",
   "metadata": {},
   "source": [
    "## Etapas do Entendimento do Negócio"
   ]
  },
  {
   "cell_type": "markdown",
   "id": "29c7f007",
   "metadata": {},
   "source": [
    "## Motivação"
   ]
  },
  {
   "cell_type": "markdown",
   "id": "bea7f70e",
   "metadata": {},
   "source": [
    "Qual o contexto?\n",
    "\n",
    "- A marca que contratou os nossos serviços é a Marca 01. Numa análise prévia do mercado, sabemos que os atributos Serviço Humanizado, Dinamisno, Liderança, Qualidade do serviço, Custo Benefício, Identificação e Qualidade são importantes para a categoria.\n",
    "\n",
    "\n",
    "- Você precisa encontrar os mesmos números presentes nesse exemplo (não esqueça que você vai precisar deixar visível as fórmulas que usou para fazer os cálculos, oks)"
   ]
  },
  {
   "cell_type": "markdown",
   "id": "944fbf66",
   "metadata": {},
   "source": [
    "## Desafio"
   ]
  },
  {
   "cell_type": "markdown",
   "id": "37590c2f",
   "metadata": {},
   "source": [
    "Você é o Decision Scientist e sua tarefa é responder à seguinte questão: o nosso cliente tem um desempenho melhor do que os seus concorrentes nesses atributos?"
   ]
  },
  {
   "cell_type": "markdown",
   "id": "9a66533f",
   "metadata": {},
   "source": [
    "Qual A Causa Raiz Do Problema? Por que?\n",
    " \n",
    "- Ela está analisando o seu desempenho em relação aos seus concorrentes"
   ]
  },
  {
   "cell_type": "markdown",
   "id": "4543b8ba",
   "metadata": {},
   "source": [
    "Quem É O Dono Do Problema? Quem é o Stakeholder?\n",
    "\n",
    "- Cliente"
   ]
  },
  {
   "cell_type": "markdown",
   "id": "410771bc",
   "metadata": {},
   "source": [
    "Qual O Formato Da Solução?\n",
    "- Tipo de Problema = Analise de Desempenho\n",
    "\n",
    "\n",
    "- Potencias Metodos = Analise Exploratória de Dados\n",
    "\n",
    "\n",
    "- Tipo de entrega = \n",
    "Montar um documento, chamado de Yoda, que compila todos os dados presentes na base de dados."
   ]
  },
  {
   "cell_type": "markdown",
   "id": "d9f0a4d4",
   "metadata": {},
   "source": [
    "## 0.0 IMPORT DAS BIBLIOTECAS NECESSÁRIAS"
   ]
  },
  {
   "cell_type": "code",
   "execution_count": 2,
   "id": "efa6ee4d",
   "metadata": {},
   "outputs": [],
   "source": [
    "import num\n",
    "import pandas as pd"
   ]
  },
  {
   "cell_type": "markdown",
   "id": "63d7b8e8",
   "metadata": {},
   "source": [
    "## 0.1 CARREGANDO DADOS"
   ]
  },
  {
   "cell_type": "code",
   "execution_count": 24,
   "id": "0aa6804e",
   "metadata": {},
   "outputs": [],
   "source": [
    "df_raw.to_csv('dataset.csv', sep=';', index=False)"
   ]
  }
 ],
 "metadata": {
  "kernelspec": {
   "display_name": "Python 3 (ipykernel)",
   "language": "python",
   "name": "python3"
  },
  "language_info": {
   "codemirror_mode": {
    "name": "ipython",
    "version": 3
   },
   "file_extension": ".py",
   "mimetype": "text/x-python",
   "name": "python",
   "nbconvert_exporter": "python",
   "pygments_lexer": "ipython3",
   "version": "3.8.13"
  }
 },
 "nbformat": 4,
 "nbformat_minor": 5
}
